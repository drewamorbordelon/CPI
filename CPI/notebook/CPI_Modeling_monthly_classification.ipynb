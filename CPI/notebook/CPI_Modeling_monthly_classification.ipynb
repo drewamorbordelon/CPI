{
  "nbformat": 4,
  "nbformat_minor": 0,
  "metadata": {
    "colab": {
      "name": "CPI Modeling monthly classification asset classes.ipynb",
      "provenance": [],
      "collapsed_sections": []
    },
    "kernelspec": {
      "name": "python3",
      "display_name": "Python 3"
    }
  },
  "cells": [
    {
      "cell_type": "code",
      "metadata": {
        "id": "kfFB6Qj0qhPv"
      },
      "source": [
        "%matplotlib inline\n",
        "import sys\n",
        "\n",
        "!pip install category_encoders==2.*\n",
        "\n",
        "import numpy as np\n",
        "import pandas as pd\n",
        "import matplotlib.pyplot as plt\n",
        "from category_encoders import OneHotEncoder, OrdinalEncoder\n",
        "from sklearn.ensemble import RandomForestRegressor\n",
        "from sklearn.impute import SimpleImputer\n",
        "from sklearn.linear_model import LinearRegression\n",
        "from sklearn.metrics import mean_absolute_error\n",
        "from sklearn.model_selection import GridSearchCV\n",
        "from sklearn.pipeline import make_pipeline\n",
        "from sklearn.metrics import accuracy_score\n",
        "from sklearn.pipeline import make_pipeline\n",
        "from sklearn.ensemble import RandomForestClassifier\n",
        "from sklearn.preprocessing import StandardScaler\n",
        "from sklearn.tree import DecisionTreeClassifier\n",
        "from sklearn.linear_model import LogisticRegression\n",
        "from sklearn.feature_selection import SelectKBest\n",
        "\n",
        "if 'google.colab' in sys.modules:\n",
        "    # Install packages in Colab\n",
        "    !pip install category_encoders==2.*\n",
        "    !pip install eli5\n",
        "    !pip install pandas-profiling==2.*\n",
        "    !pip install pdpbox\n",
        "    !pip install shap\n",
        "\n",
        "import warnings\n",
        "warnings.filterwarnings(action='ignore', category=FutureWarning, module='xgboost')"
      ],
      "execution_count": null,
      "outputs": []
    },
    {
      "cell_type": "code",
      "metadata": {
        "id": "Fgxjb2N1qomb"
      },
      "source": [
        "df = pd.read_csv('/content/monthly economic data.csv', parse_dates=['date'], index_col='date')"
      ],
      "execution_count": null,
      "outputs": []
    },
    {
      "cell_type": "code",
      "metadata": {
        "id": "3EbCVtNOLEfS",
        "colab": {
          "base_uri": "https://localhost:8080/",
          "height": 275
        },
        "outputId": "c5143d1b-955a-46d1-99ac-22085c6ea042"
      },
      "source": [
        "df.tail()"
      ],
      "execution_count": null,
      "outputs": [
        {
          "output_type": "execute_result",
          "data": {
            "text/html": [
              "<div>\n",
              "<style scoped>\n",
              "    .dataframe tbody tr th:only-of-type {\n",
              "        vertical-align: middle;\n",
              "    }\n",
              "\n",
              "    .dataframe tbody tr th {\n",
              "        vertical-align: top;\n",
              "    }\n",
              "\n",
              "    .dataframe thead th {\n",
              "        text-align: right;\n",
              "    }\n",
              "</style>\n",
              "<table border=\"1\" class=\"dataframe\">\n",
              "  <thead>\n",
              "    <tr style=\"text-align: right;\">\n",
              "      <th></th>\n",
              "      <th>ism_pmi</th>\n",
              "      <th>head_CPI</th>\n",
              "      <th>head_CPI_roc</th>\n",
              "      <th>head_CPI_bps</th>\n",
              "      <th>core_CPI</th>\n",
              "      <th>core_CPIyoy</th>\n",
              "      <th>CRB</th>\n",
              "      <th>10yr_rate</th>\n",
              "      <th>10yr_roc</th>\n",
              "      <th>per_chg_yoy</th>\n",
              "      <th>swiss10yr</th>\n",
              "      <th>swiss_roc</th>\n",
              "      <th>dxy</th>\n",
              "      <th>dxy_roc</th>\n",
              "      <th>ind_pro_man</th>\n",
              "      <th>wti</th>\n",
              "      <th>wti_roc_qoq</th>\n",
              "      <th>wti_yoy</th>\n",
              "      <th>ba_credit_spread</th>\n",
              "      <th>copper_fut</th>\n",
              "      <th>copper_chg_yoy</th>\n",
              "      <th>gold</th>\n",
              "      <th>gold_roc_qoq</th>\n",
              "      <th>gold_chg_yoy</th>\n",
              "      <th>copper/gold</th>\n",
              "      <th>silver</th>\n",
              "      <th>gold/silver</th>\n",
              "      <th>pmi</th>\n",
              "      <th>roc_pmi</th>\n",
              "      <th>rocpmi_bps</th>\n",
              "      <th>fed rate</th>\n",
              "    </tr>\n",
              "    <tr>\n",
              "      <th>date</th>\n",
              "      <th></th>\n",
              "      <th></th>\n",
              "      <th></th>\n",
              "      <th></th>\n",
              "      <th></th>\n",
              "      <th></th>\n",
              "      <th></th>\n",
              "      <th></th>\n",
              "      <th></th>\n",
              "      <th></th>\n",
              "      <th></th>\n",
              "      <th></th>\n",
              "      <th></th>\n",
              "      <th></th>\n",
              "      <th></th>\n",
              "      <th></th>\n",
              "      <th></th>\n",
              "      <th></th>\n",
              "      <th></th>\n",
              "      <th></th>\n",
              "      <th></th>\n",
              "      <th></th>\n",
              "      <th></th>\n",
              "      <th></th>\n",
              "      <th></th>\n",
              "      <th></th>\n",
              "      <th></th>\n",
              "      <th></th>\n",
              "      <th></th>\n",
              "      <th></th>\n",
              "      <th></th>\n",
              "    </tr>\n",
              "  </thead>\n",
              "  <tbody>\n",
              "    <tr>\n",
              "      <th>2020-04-01</th>\n",
              "      <td>41.5</td>\n",
              "      <td>255.902</td>\n",
              "      <td>0.376163</td>\n",
              "      <td>-114.216724</td>\n",
              "      <td>265.601</td>\n",
              "      <td>1.43831</td>\n",
              "      <td>117.20</td>\n",
              "      <td>0.64</td>\n",
              "      <td>-57.615894</td>\n",
              "      <td>-1.87</td>\n",
              "      <td>-0.487</td>\n",
              "      <td>-30.229226</td>\n",
              "      <td>99.57</td>\n",
              "      <td>2.238423</td>\n",
              "      <td>84.5913</td>\n",
              "      <td>16.55</td>\n",
              "      <td>-71.227399</td>\n",
              "      <td>-74.08393</td>\n",
              "      <td>1.697143</td>\n",
              "      <td>2.3055</td>\n",
              "      <td>-21.44009</td>\n",
              "      <td>1685.05</td>\n",
              "      <td>5.964659</td>\n",
              "      <td>33.58363</td>\n",
              "      <td>0.001368</td>\n",
              "      <td>14.973</td>\n",
              "      <td>112.539237</td>\n",
              "      <td>100.8026</td>\n",
              "      <td>-5.172839</td>\n",
              "      <td>-496.864463</td>\n",
              "      <td>0.05</td>\n",
              "    </tr>\n",
              "    <tr>\n",
              "      <th>2020-05-01</th>\n",
              "      <td>43.1</td>\n",
              "      <td>255.768</td>\n",
              "      <td>0.235532</td>\n",
              "      <td>-14.063049</td>\n",
              "      <td>265.441</td>\n",
              "      <td>1.23647</td>\n",
              "      <td>132.24</td>\n",
              "      <td>0.65</td>\n",
              "      <td>-42.477876</td>\n",
              "      <td>-1.49</td>\n",
              "      <td>-0.471</td>\n",
              "      <td>-43.389423</td>\n",
              "      <td>98.34</td>\n",
              "      <td>0.214002</td>\n",
              "      <td>87.8986</td>\n",
              "      <td>28.56</td>\n",
              "      <td>-43.490305</td>\n",
              "      <td>-53.04948</td>\n",
              "      <td>1.454000</td>\n",
              "      <td>2.4255</td>\n",
              "      <td>-12.92939</td>\n",
              "      <td>1728.30</td>\n",
              "      <td>9.032067</td>\n",
              "      <td>33.15201</td>\n",
              "      <td>0.001403</td>\n",
              "      <td>18.499</td>\n",
              "      <td>93.426672</td>\n",
              "      <td>84.5913</td>\n",
              "      <td>-19.722568</td>\n",
              "      <td>-1454.972961</td>\n",
              "      <td>0.05</td>\n",
              "    </tr>\n",
              "    <tr>\n",
              "      <th>2020-06-01</th>\n",
              "      <td>52.6</td>\n",
              "      <td>257.214</td>\n",
              "      <td>0.709470</td>\n",
              "      <td>47.393775</td>\n",
              "      <td>266.065</td>\n",
              "      <td>1.19426</td>\n",
              "      <td>137.97</td>\n",
              "      <td>0.66</td>\n",
              "      <td>-5.714286</td>\n",
              "      <td>-1.34</td>\n",
              "      <td>-0.439</td>\n",
              "      <td>19.293478</td>\n",
              "      <td>97.39</td>\n",
              "      <td>-1.675921</td>\n",
              "      <td>94.6167</td>\n",
              "      <td>38.31</td>\n",
              "      <td>31.153714</td>\n",
              "      <td>-29.91218</td>\n",
              "      <td>1.201818</td>\n",
              "      <td>2.7135</td>\n",
              "      <td>-2.16975</td>\n",
              "      <td>1780.67</td>\n",
              "      <td>13.323914</td>\n",
              "      <td>25.29720</td>\n",
              "      <td>0.001524</td>\n",
              "      <td>18.064</td>\n",
              "      <td>98.575620</td>\n",
              "      <td>87.8986</td>\n",
              "      <td>-16.685845</td>\n",
              "      <td>303.672364</td>\n",
              "      <td>0.08</td>\n",
              "    </tr>\n",
              "    <tr>\n",
              "      <th>2020-07-01</th>\n",
              "      <td>54.2</td>\n",
              "      <td>258.723</td>\n",
              "      <td>1.029338</td>\n",
              "      <td>31.986791</td>\n",
              "      <td>267.715</td>\n",
              "      <td>1.56609</td>\n",
              "      <td>143.69</td>\n",
              "      <td>0.55</td>\n",
              "      <td>-14.062500</td>\n",
              "      <td>-1.47</td>\n",
              "      <td>-0.529</td>\n",
              "      <td>8.624230</td>\n",
              "      <td>93.35</td>\n",
              "      <td>-6.246862</td>\n",
              "      <td>98.3754</td>\n",
              "      <td>40.71</td>\n",
              "      <td>145.981873</td>\n",
              "      <td>-29.01482</td>\n",
              "      <td>1.173182</td>\n",
              "      <td>2.8680</td>\n",
              "      <td>7.25890</td>\n",
              "      <td>1974.69</td>\n",
              "      <td>17.188807</td>\n",
              "      <td>38.03782</td>\n",
              "      <td>0.001452</td>\n",
              "      <td>24.216</td>\n",
              "      <td>81.544846</td>\n",
              "      <td>94.6167</td>\n",
              "      <td>-10.821074</td>\n",
              "      <td>586.477053</td>\n",
              "      <td>0.09</td>\n",
              "    </tr>\n",
              "    <tr>\n",
              "      <th>2020-08-01</th>\n",
              "      <td>56.0</td>\n",
              "      <td>259.681</td>\n",
              "      <td>1.321529</td>\n",
              "      <td>29.219150</td>\n",
              "      <td>268.747</td>\n",
              "      <td>1.72875</td>\n",
              "      <td>153.21</td>\n",
              "      <td>0.72</td>\n",
              "      <td>10.769231</td>\n",
              "      <td>-0.78</td>\n",
              "      <td>-0.410</td>\n",
              "      <td>-12.951168</td>\n",
              "      <td>92.14</td>\n",
              "      <td>-6.304657</td>\n",
              "      <td>99.3189</td>\n",
              "      <td>42.34</td>\n",
              "      <td>48.249300</td>\n",
              "      <td>-22.75132</td>\n",
              "      <td>1.024286</td>\n",
              "      <td>3.0410</td>\n",
              "      <td>13.99353</td>\n",
              "      <td>1968.03</td>\n",
              "      <td>13.870856</td>\n",
              "      <td>28.12224</td>\n",
              "      <td>0.001545</td>\n",
              "      <td>28.594</td>\n",
              "      <td>68.826677</td>\n",
              "      <td>98.3754</td>\n",
              "      <td>-6.918340</td>\n",
              "      <td>390.273402</td>\n",
              "      <td>0.10</td>\n",
              "    </tr>\n",
              "  </tbody>\n",
              "</table>\n",
              "</div>"
            ],
            "text/plain": [
              "            ism_pmi  head_CPI  head_CPI_roc  ...    roc_pmi   rocpmi_bps  fed rate\n",
              "date                                         ...                                  \n",
              "2020-04-01     41.5   255.902      0.376163  ...  -5.172839  -496.864463      0.05\n",
              "2020-05-01     43.1   255.768      0.235532  ... -19.722568 -1454.972961      0.05\n",
              "2020-06-01     52.6   257.214      0.709470  ... -16.685845   303.672364      0.08\n",
              "2020-07-01     54.2   258.723      1.029338  ... -10.821074   586.477053      0.09\n",
              "2020-08-01     56.0   259.681      1.321529  ...  -6.918340   390.273402      0.10\n",
              "\n",
              "[5 rows x 31 columns]"
            ]
          },
          "metadata": {
            "tags": []
          },
          "execution_count": 4
        }
      ]
    },
    {
      "cell_type": "code",
      "metadata": {
        "id": "S6rHJe-CZppc"
      },
      "source": [
        "def wrangle(df):\n",
        "\n",
        "  df = df.copy()\n",
        " \n",
        "  # New Feature `Copper/Gold Ratio` & `Copper/WTI` Ratio\n",
        "  df['Copper/WTI Ratio'] = df['copper_fut'] / df['wti']\n",
        "  df['Copper/CRB Ratio'] = df['copper_fut'] / df['CRB']\n",
        "\n",
        "  # New Feature using rolling correlation\n",
        "  df['CD quarter corr'] = df['copper_fut'].rolling(4).corr(df['dxy'])\n",
        "  df['CG quarter gold corr'] = df['copper_fut'].rolling(4).corr(df['gold'])\n",
        "  df['CC quarter gold corr'] = df['copper_fut'].rolling(4).corr(df['CRB'])\n",
        "  \n",
        "  # New Features using rolling correlation\n",
        "  df['DG quarter corr'] = df['dxy'].rolling(4).corr(df['gold'])\n",
        "  df['DCRB quarter corr'] = df['dxy'].rolling(4).corr(df['CRB']) \n",
        "\n",
        "  # Creating NEW Target `CPI overall`\n",
        "  result = [] \n",
        "  for value in df['head_CPI_bps']: \n",
        "    if value >= 0.00: \n",
        "      result.append(\"Accelerate\")  \n",
        "    else:\n",
        "      result.append(\"Decelerate\")\n",
        "\n",
        "  df['CPI overall'] = result\n",
        "\n",
        " # Creating a NEW FEATURE `WTI_ROC +`\n",
        "  result_wti_roc_up=[]\n",
        "  for value in df['wti_roc_qoq']:\n",
        "    if value >= 0.00:\n",
        "      result_wti_roc_up.append('+')\n",
        "    else:\n",
        "      result_wti_roc_up.append('-')\n",
        "\n",
        "  df['wti_roc_up'] = result_wti_roc_up\n",
        "\n",
        "  # Creating a NEW FEATURE `WTI_yoy_Chg`\n",
        "  result_wti_yoy=[]\n",
        "  for value in df['wti_yoy']:\n",
        "    if value >= 0.00:\n",
        "      result_wti_yoy.append('+')\n",
        "    else:\n",
        "      result_wti_yoy.append('-')\n",
        "\n",
        "  df['wti_yoy_up'] = result_wti_yoy\n",
        "\n",
        "  # Creating a NEW FEATURE `Gold_ROC +`\n",
        "  result_gold_roc_up=[]\n",
        "  for value in df['gold_roc_qoq']:\n",
        "    if value >= 0.00:\n",
        "      result_gold_roc_up.append('-')\n",
        "    else:\n",
        "      result_gold_roc_up.append('+')\n",
        "\n",
        "  df['gold_roc_up'] = result_gold_roc_up\n",
        "\n",
        "  # Creating a NEW FEATURE `Gold_yoy_Chg`\n",
        "  result_gold_yoy=[]\n",
        "  for value in df['gold_chg_yoy']:\n",
        "    if value >= 0.00:\n",
        "      result_gold_yoy.append('-')\n",
        "    else:\n",
        "      result_gold_yoy.append('+')\n",
        "\n",
        "  df['gold_yoy_up'] = result_gold_yoy\n",
        "\n",
        "  # Dropping unimportant columns\n",
        "  df = df.drop(['head_CPI_roc', 'head_CPI_bps', 'head_CPI', 'core_CPI', \n",
        "                'core_CPIyoy', 'pmi', 'rocpmi_bps', 'roc_pmi', 'wti_yoy_up', 'gold_yoy_up'],axis=1)                          \n",
        "                # , 'ism_pmi', 'pmi', 'rocpmi_bps', 'roc_pmi, , 'ism_pmi', , 'Copper/CRB Ratio', 'gold', , 'gold_roc_qoq', 'wti_roc_qoq'\n",
        "              \n",
        "                \n",
        "  # Dropping null values          \n",
        "  df = df.dropna()\n",
        "\n",
        "  return df\n"
      ],
      "execution_count": null,
      "outputs": []
    },
    {
      "cell_type": "code",
      "metadata": {
        "id": "9B1FloDMeRPi"
      },
      "source": [
        "# Applying wrangle function to DataFrame\n",
        "df = wrangle(df)"
      ],
      "execution_count": null,
      "outputs": []
    },
    {
      "cell_type": "code",
      "metadata": {
        "id": "yVL4XW3ECKTm",
        "colab": {
          "base_uri": "https://localhost:8080/",
          "height": 728
        },
        "outputId": "dba8110c-baed-4ee4-869d-7ff540993e53"
      },
      "source": [
        "df.tail(20)"
      ],
      "execution_count": null,
      "outputs": [
        {
          "output_type": "execute_result",
          "data": {
            "text/html": [
              "<div>\n",
              "<style scoped>\n",
              "    .dataframe tbody tr th:only-of-type {\n",
              "        vertical-align: middle;\n",
              "    }\n",
              "\n",
              "    .dataframe tbody tr th {\n",
              "        vertical-align: top;\n",
              "    }\n",
              "\n",
              "    .dataframe thead th {\n",
              "        text-align: right;\n",
              "    }\n",
              "</style>\n",
              "<table border=\"1\" class=\"dataframe\">\n",
              "  <thead>\n",
              "    <tr style=\"text-align: right;\">\n",
              "      <th></th>\n",
              "      <th>ISM_PMI</th>\n",
              "      <th>Commodity_Index</th>\n",
              "      <th>10yr_Rate</th>\n",
              "      <th>10yr_ROC</th>\n",
              "      <th>10yr_yoy_Per_Chg</th>\n",
              "      <th>Swiss_10yr</th>\n",
              "      <th>Swiss_10yr_ROC</th>\n",
              "      <th>Dollar_Index</th>\n",
              "      <th>Dollar_ROC</th>\n",
              "      <th>Indust_Prod_Manufacturing</th>\n",
              "      <th>WTI</th>\n",
              "      <th>WTI_ROC</th>\n",
              "      <th>WTI_yoy_Chg</th>\n",
              "      <th>Aaa/Baa_Yield_Spread</th>\n",
              "      <th>Copper</th>\n",
              "      <th>Copper_yoy_Chg</th>\n",
              "      <th>Gold</th>\n",
              "      <th>Gold_ROC</th>\n",
              "      <th>Gold_yoy_Chg</th>\n",
              "      <th>Copper/Gold</th>\n",
              "      <th>Silver</th>\n",
              "      <th>Gold/Silver</th>\n",
              "      <th>Fed_Funds_Rate</th>\n",
              "      <th>Copper/WTI</th>\n",
              "      <th>Copper/CRB</th>\n",
              "      <th>Copper/$_Quarter_Corr</th>\n",
              "      <th>Copper/Gold_Quarter_Corr</th>\n",
              "      <th>Copper/CRB_Quarter_Corr</th>\n",
              "      <th>$/Gold_Quarter_Corr</th>\n",
              "      <th>$/CRB_Quarter_Corr</th>\n",
              "      <th>CPI_Direction</th>\n",
              "      <th>WTI_ROC_+</th>\n",
              "      <th>Gold_ROC_+</th>\n",
              "      <th>MA_12_ISM</th>\n",
              "      <th>MA_12_WTI</th>\n",
              "      <th>Aaa/Baa_Spread_Inv</th>\n",
              "      <th>MA_12_Aaa/Baa_Spread_Inv</th>\n",
              "    </tr>\n",
              "    <tr>\n",
              "      <th>date</th>\n",
              "      <th></th>\n",
              "      <th></th>\n",
              "      <th></th>\n",
              "      <th></th>\n",
              "      <th></th>\n",
              "      <th></th>\n",
              "      <th></th>\n",
              "      <th></th>\n",
              "      <th></th>\n",
              "      <th></th>\n",
              "      <th></th>\n",
              "      <th></th>\n",
              "      <th></th>\n",
              "      <th></th>\n",
              "      <th></th>\n",
              "      <th></th>\n",
              "      <th></th>\n",
              "      <th></th>\n",
              "      <th></th>\n",
              "      <th></th>\n",
              "      <th></th>\n",
              "      <th></th>\n",
              "      <th></th>\n",
              "      <th></th>\n",
              "      <th></th>\n",
              "      <th></th>\n",
              "      <th></th>\n",
              "      <th></th>\n",
              "      <th></th>\n",
              "      <th></th>\n",
              "      <th></th>\n",
              "      <th></th>\n",
              "      <th></th>\n",
              "      <th></th>\n",
              "      <th></th>\n",
              "      <th></th>\n",
              "      <th></th>\n",
              "    </tr>\n",
              "  </thead>\n",
              "  <tbody>\n",
              "    <tr>\n",
              "      <th>2019-01-01</th>\n",
              "      <td>56.6</td>\n",
              "      <td>179.64</td>\n",
              "      <td>2.63</td>\n",
              "      <td>-16.507937</td>\n",
              "      <td>-0.09</td>\n",
              "      <td>-0.210</td>\n",
              "      <td>-395.774648</td>\n",
              "      <td>95.58</td>\n",
              "      <td>-1.595799</td>\n",
              "      <td>106.8790</td>\n",
              "      <td>51.38</td>\n",
              "      <td>-27.378092</td>\n",
              "      <td>-19.34066</td>\n",
              "      <td>1.190000</td>\n",
              "      <td>2.8110</td>\n",
              "      <td>-15.94641</td>\n",
              "      <td>1320.94</td>\n",
              "      <td>8.760518</td>\n",
              "      <td>-1.55209</td>\n",
              "      <td>0.002128</td>\n",
              "      <td>16.022</td>\n",
              "      <td>82.445388</td>\n",
              "      <td>2.40</td>\n",
              "      <td>0.054710</td>\n",
              "      <td>0.015648</td>\n",
              "      <td>-0.192705</td>\n",
              "      <td>0.272242</td>\n",
              "      <td>0.146576</td>\n",
              "      <td>-0.991437</td>\n",
              "      <td>0.566363</td>\n",
              "      <td>Decelerate</td>\n",
              "      <td>-</td>\n",
              "      <td>-</td>\n",
              "      <td>NaN</td>\n",
              "      <td>NaN</td>\n",
              "      <td>-1.190000</td>\n",
              "      <td>NaN</td>\n",
              "    </tr>\n",
              "    <tr>\n",
              "      <th>2019-02-01</th>\n",
              "      <td>54.1</td>\n",
              "      <td>182.75</td>\n",
              "      <td>2.73</td>\n",
              "      <td>-9.302326</td>\n",
              "      <td>-0.14</td>\n",
              "      <td>-0.236</td>\n",
              "      <td>1473.333333</td>\n",
              "      <td>96.16</td>\n",
              "      <td>-1.141153</td>\n",
              "      <td>106.3204</td>\n",
              "      <td>54.95</td>\n",
              "      <td>-3.528792</td>\n",
              "      <td>-11.69854</td>\n",
              "      <td>1.157368</td>\n",
              "      <td>2.9620</td>\n",
              "      <td>-10.07686</td>\n",
              "      <td>1313.05</td>\n",
              "      <td>7.454417</td>\n",
              "      <td>0.39006</td>\n",
              "      <td>0.002256</td>\n",
              "      <td>15.538</td>\n",
              "      <td>84.505728</td>\n",
              "      <td>2.40</td>\n",
              "      <td>0.053904</td>\n",
              "      <td>0.016208</td>\n",
              "      <td>-0.084538</td>\n",
              "      <td>0.350867</td>\n",
              "      <td>0.864145</td>\n",
              "      <td>-0.952668</td>\n",
              "      <td>0.227437</td>\n",
              "      <td>Decelerate</td>\n",
              "      <td>-</td>\n",
              "      <td>-</td>\n",
              "      <td>NaN</td>\n",
              "      <td>NaN</td>\n",
              "      <td>-1.157368</td>\n",
              "      <td>NaN</td>\n",
              "    </tr>\n",
              "    <tr>\n",
              "      <th>2019-03-01</th>\n",
              "      <td>54.6</td>\n",
              "      <td>183.75</td>\n",
              "      <td>2.41</td>\n",
              "      <td>-10.408922</td>\n",
              "      <td>-0.33</td>\n",
              "      <td>-0.352</td>\n",
              "      <td>128.571429</td>\n",
              "      <td>97.28</td>\n",
              "      <td>1.154206</td>\n",
              "      <td>106.3014</td>\n",
              "      <td>58.15</td>\n",
              "      <td>17.427302</td>\n",
              "      <td>-7.30113</td>\n",
              "      <td>1.065714</td>\n",
              "      <td>2.9500</td>\n",
              "      <td>-5.29056</td>\n",
              "      <td>1292.15</td>\n",
              "      <td>0.727304</td>\n",
              "      <td>-2.47375</td>\n",
              "      <td>0.002283</td>\n",
              "      <td>15.295</td>\n",
              "      <td>84.481857</td>\n",
              "      <td>2.41</td>\n",
              "      <td>0.050731</td>\n",
              "      <td>0.016054</td>\n",
              "      <td>0.439107</td>\n",
              "      <td>0.430676</td>\n",
              "      <td>0.971541</td>\n",
              "      <td>-0.590240</td>\n",
              "      <td>0.358297</td>\n",
              "      <td>Accelerate</td>\n",
              "      <td>+</td>\n",
              "      <td>-</td>\n",
              "      <td>NaN</td>\n",
              "      <td>NaN</td>\n",
              "      <td>-1.065714</td>\n",
              "      <td>NaN</td>\n",
              "    </tr>\n",
              "    <tr>\n",
              "      <th>2019-04-01</th>\n",
              "      <td>53.4</td>\n",
              "      <td>184.25</td>\n",
              "      <td>2.51</td>\n",
              "      <td>-4.562738</td>\n",
              "      <td>-0.44</td>\n",
              "      <td>-0.267</td>\n",
              "      <td>27.142857</td>\n",
              "      <td>97.48</td>\n",
              "      <td>1.987864</td>\n",
              "      <td>105.3737</td>\n",
              "      <td>63.86</td>\n",
              "      <td>24.289607</td>\n",
              "      <td>-3.60755</td>\n",
              "      <td>1.013333</td>\n",
              "      <td>2.9200</td>\n",
              "      <td>-6.03006</td>\n",
              "      <td>1283.60</td>\n",
              "      <td>-2.826775</td>\n",
              "      <td>-2.36277</td>\n",
              "      <td>0.002275</td>\n",
              "      <td>15.069</td>\n",
              "      <td>85.181498</td>\n",
              "      <td>2.42</td>\n",
              "      <td>0.045725</td>\n",
              "      <td>0.015848</td>\n",
              "      <td>0.608997</td>\n",
              "      <td>-0.521257</td>\n",
              "      <td>0.851213</td>\n",
              "      <td>-0.991034</td>\n",
              "      <td>0.921844</td>\n",
              "      <td>Accelerate</td>\n",
              "      <td>+</td>\n",
              "      <td>+</td>\n",
              "      <td>NaN</td>\n",
              "      <td>NaN</td>\n",
              "      <td>-1.013333</td>\n",
              "      <td>NaN</td>\n",
              "    </tr>\n",
              "    <tr>\n",
              "      <th>2019-05-01</th>\n",
              "      <td>52.3</td>\n",
              "      <td>175.36</td>\n",
              "      <td>2.14</td>\n",
              "      <td>-21.611722</td>\n",
              "      <td>-0.69</td>\n",
              "      <td>-0.445</td>\n",
              "      <td>88.559322</td>\n",
              "      <td>97.75</td>\n",
              "      <td>1.653494</td>\n",
              "      <td>105.5026</td>\n",
              "      <td>60.83</td>\n",
              "      <td>10.700637</td>\n",
              "      <td>-13.07516</td>\n",
              "      <td>0.958182</td>\n",
              "      <td>2.6440</td>\n",
              "      <td>-11.82911</td>\n",
              "      <td>1305.65</td>\n",
              "      <td>-0.563573</td>\n",
              "      <td>-0.57537</td>\n",
              "      <td>0.002025</td>\n",
              "      <td>14.756</td>\n",
              "      <td>88.482651</td>\n",
              "      <td>2.39</td>\n",
              "      <td>0.043465</td>\n",
              "      <td>0.015078</td>\n",
              "      <td>-0.630793</td>\n",
              "      <td>-0.255201</td>\n",
              "      <td>0.965988</td>\n",
              "      <td>-0.572061</td>\n",
              "      <td>-0.427125</td>\n",
              "      <td>Decelerate</td>\n",
              "      <td>+</td>\n",
              "      <td>+</td>\n",
              "      <td>NaN</td>\n",
              "      <td>NaN</td>\n",
              "      <td>-0.958182</td>\n",
              "      <td>NaN</td>\n",
              "    </tr>\n",
              "    <tr>\n",
              "      <th>2019-06-01</th>\n",
              "      <td>51.6</td>\n",
              "      <td>181.04</td>\n",
              "      <td>2.00</td>\n",
              "      <td>-17.012448</td>\n",
              "      <td>-0.85</td>\n",
              "      <td>-0.482</td>\n",
              "      <td>36.931818</td>\n",
              "      <td>96.13</td>\n",
              "      <td>-1.182155</td>\n",
              "      <td>106.0976</td>\n",
              "      <td>54.66</td>\n",
              "      <td>-6.001720</td>\n",
              "      <td>-19.46368</td>\n",
              "      <td>1.040500</td>\n",
              "      <td>2.7200</td>\n",
              "      <td>-15.55634</td>\n",
              "      <td>1409.50</td>\n",
              "      <td>9.081763</td>\n",
              "      <td>13.00628</td>\n",
              "      <td>0.001930</td>\n",
              "      <td>15.447</td>\n",
              "      <td>91.247491</td>\n",
              "      <td>2.38</td>\n",
              "      <td>0.049762</td>\n",
              "      <td>0.015024</td>\n",
              "      <td>0.145870</td>\n",
              "      <td>-0.515158</td>\n",
              "      <td>0.914142</td>\n",
              "      <td>-0.923038</td>\n",
              "      <td>-0.229080</td>\n",
              "      <td>Decelerate</td>\n",
              "      <td>-</td>\n",
              "      <td>-</td>\n",
              "      <td>NaN</td>\n",
              "      <td>NaN</td>\n",
              "      <td>-1.040500</td>\n",
              "      <td>NaN</td>\n",
              "    </tr>\n",
              "    <tr>\n",
              "      <th>2019-07-01</th>\n",
              "      <td>51.3</td>\n",
              "      <td>178.53</td>\n",
              "      <td>2.02</td>\n",
              "      <td>-19.521912</td>\n",
              "      <td>-0.94</td>\n",
              "      <td>-0.654</td>\n",
              "      <td>144.943820</td>\n",
              "      <td>98.52</td>\n",
              "      <td>1.066886</td>\n",
              "      <td>105.6872</td>\n",
              "      <td>57.35</td>\n",
              "      <td>-10.194175</td>\n",
              "      <td>-19.20259</td>\n",
              "      <td>0.989091</td>\n",
              "      <td>2.6760</td>\n",
              "      <td>-4.95228</td>\n",
              "      <td>1413.80</td>\n",
              "      <td>10.143347</td>\n",
              "      <td>17.33514</td>\n",
              "      <td>0.001893</td>\n",
              "      <td>16.533</td>\n",
              "      <td>85.513821</td>\n",
              "      <td>2.40</td>\n",
              "      <td>0.046661</td>\n",
              "      <td>0.014989</td>\n",
              "      <td>-0.176743</td>\n",
              "      <td>-0.511339</td>\n",
              "      <td>0.915208</td>\n",
              "      <td>-0.126732</td>\n",
              "      <td>-0.372138</td>\n",
              "      <td>Accelerate</td>\n",
              "      <td>-</td>\n",
              "      <td>-</td>\n",
              "      <td>NaN</td>\n",
              "      <td>NaN</td>\n",
              "      <td>-0.989091</td>\n",
              "      <td>NaN</td>\n",
              "    </tr>\n",
              "    <tr>\n",
              "      <th>2019-08-01</th>\n",
              "      <td>48.8</td>\n",
              "      <td>170.36</td>\n",
              "      <td>1.50</td>\n",
              "      <td>-29.906542</td>\n",
              "      <td>-1.36</td>\n",
              "      <td>-0.975</td>\n",
              "      <td>119.101124</td>\n",
              "      <td>98.92</td>\n",
              "      <td>1.196931</td>\n",
              "      <td>106.3504</td>\n",
              "      <td>54.81</td>\n",
              "      <td>-9.896433</td>\n",
              "      <td>-19.46812</td>\n",
              "      <td>0.893636</td>\n",
              "      <td>2.5620</td>\n",
              "      <td>-5.64539</td>\n",
              "      <td>1520.25</td>\n",
              "      <td>16.436258</td>\n",
              "      <td>26.49045</td>\n",
              "      <td>0.001685</td>\n",
              "      <td>18.467</td>\n",
              "      <td>82.322521</td>\n",
              "      <td>2.13</td>\n",
              "      <td>0.046743</td>\n",
              "      <td>0.015039</td>\n",
              "      <td>-0.796214</td>\n",
              "      <td>-0.514053</td>\n",
              "      <td>0.996134</td>\n",
              "      <td>0.407212</td>\n",
              "      <td>-0.758508</td>\n",
              "      <td>Decelerate</td>\n",
              "      <td>-</td>\n",
              "      <td>-</td>\n",
              "      <td>NaN</td>\n",
              "      <td>NaN</td>\n",
              "      <td>-0.893636</td>\n",
              "      <td>NaN</td>\n",
              "    </tr>\n",
              "    <tr>\n",
              "      <th>2019-09-01</th>\n",
              "      <td>48.2</td>\n",
              "      <td>173.94</td>\n",
              "      <td>1.68</td>\n",
              "      <td>-16.000000</td>\n",
              "      <td>-1.37</td>\n",
              "      <td>-0.700</td>\n",
              "      <td>45.228216</td>\n",
              "      <td>99.38</td>\n",
              "      <td>3.380838</td>\n",
              "      <td>105.6556</td>\n",
              "      <td>56.95</td>\n",
              "      <td>4.189535</td>\n",
              "      <td>-18.90930</td>\n",
              "      <td>0.884500</td>\n",
              "      <td>2.5900</td>\n",
              "      <td>-4.81778</td>\n",
              "      <td>1472.25</td>\n",
              "      <td>4.451933</td>\n",
              "      <td>25.69497</td>\n",
              "      <td>0.001759</td>\n",
              "      <td>17.130</td>\n",
              "      <td>85.945709</td>\n",
              "      <td>2.04</td>\n",
              "      <td>0.045478</td>\n",
              "      <td>0.014890</td>\n",
              "      <td>-0.840729</td>\n",
              "      <td>-0.953847</td>\n",
              "      <td>0.987582</td>\n",
              "      <td>0.649048</td>\n",
              "      <td>-0.779656</td>\n",
              "      <td>Decelerate</td>\n",
              "      <td>+</td>\n",
              "      <td>-</td>\n",
              "      <td>NaN</td>\n",
              "      <td>NaN</td>\n",
              "      <td>-0.884500</td>\n",
              "      <td>NaN</td>\n",
              "    </tr>\n",
              "    <tr>\n",
              "      <th>2019-10-01</th>\n",
              "      <td>48.5</td>\n",
              "      <td>176.89</td>\n",
              "      <td>1.69</td>\n",
              "      <td>-16.336634</td>\n",
              "      <td>-1.46</td>\n",
              "      <td>-0.511</td>\n",
              "      <td>-21.865443</td>\n",
              "      <td>97.35</td>\n",
              "      <td>-1.187576</td>\n",
              "      <td>105.0590</td>\n",
              "      <td>53.96</td>\n",
              "      <td>-5.911072</td>\n",
              "      <td>-23.73145</td>\n",
              "      <td>0.915000</td>\n",
              "      <td>2.6470</td>\n",
              "      <td>-7.43279</td>\n",
              "      <td>1513.35</td>\n",
              "      <td>7.041307</td>\n",
              "      <td>23.70863</td>\n",
              "      <td>0.001749</td>\n",
              "      <td>18.220</td>\n",
              "      <td>83.059824</td>\n",
              "      <td>1.83</td>\n",
              "      <td>0.049055</td>\n",
              "      <td>0.014964</td>\n",
              "      <td>-0.593127</td>\n",
              "      <td>-0.643064</td>\n",
              "      <td>0.980109</td>\n",
              "      <td>-0.231937</td>\n",
              "      <td>-0.531178</td>\n",
              "      <td>Accelerate</td>\n",
              "      <td>-</td>\n",
              "      <td>-</td>\n",
              "      <td>NaN</td>\n",
              "      <td>NaN</td>\n",
              "      <td>-0.915000</td>\n",
              "      <td>NaN</td>\n",
              "    </tr>\n",
              "    <tr>\n",
              "      <th>2019-11-01</th>\n",
              "      <td>48.1</td>\n",
              "      <td>176.66</td>\n",
              "      <td>1.78</td>\n",
              "      <td>18.666667</td>\n",
              "      <td>-1.23</td>\n",
              "      <td>-0.580</td>\n",
              "      <td>-40.512821</td>\n",
              "      <td>98.27</td>\n",
              "      <td>-0.657097</td>\n",
              "      <td>106.1088</td>\n",
              "      <td>57.03</td>\n",
              "      <td>4.050356</td>\n",
              "      <td>0.12289</td>\n",
              "      <td>0.881053</td>\n",
              "      <td>2.6620</td>\n",
              "      <td>-5.42241</td>\n",
              "      <td>1464.80</td>\n",
              "      <td>-3.647426</td>\n",
              "      <td>19.32894</td>\n",
              "      <td>0.001817</td>\n",
              "      <td>17.106</td>\n",
              "      <td>85.630773</td>\n",
              "      <td>1.55</td>\n",
              "      <td>0.046677</td>\n",
              "      <td>0.015068</td>\n",
              "      <td>-0.737816</td>\n",
              "      <td>-0.401343</td>\n",
              "      <td>0.955318</td>\n",
              "      <td>-0.319280</td>\n",
              "      <td>-0.681363</td>\n",
              "      <td>Accelerate</td>\n",
              "      <td>+</td>\n",
              "      <td>+</td>\n",
              "      <td>NaN</td>\n",
              "      <td>NaN</td>\n",
              "      <td>-0.881053</td>\n",
              "      <td>NaN</td>\n",
              "    </tr>\n",
              "    <tr>\n",
              "      <th>2019-12-01</th>\n",
              "      <td>47.8</td>\n",
              "      <td>185.79</td>\n",
              "      <td>1.92</td>\n",
              "      <td>14.285714</td>\n",
              "      <td>-0.77</td>\n",
              "      <td>-0.456</td>\n",
              "      <td>-34.857143</td>\n",
              "      <td>96.39</td>\n",
              "      <td>-3.008654</td>\n",
              "      <td>106.3594</td>\n",
              "      <td>59.88</td>\n",
              "      <td>5.144864</td>\n",
              "      <td>20.92084</td>\n",
              "      <td>0.868571</td>\n",
              "      <td>2.7970</td>\n",
              "      <td>0.02875</td>\n",
              "      <td>1517.40</td>\n",
              "      <td>3.066735</td>\n",
              "      <td>18.83119</td>\n",
              "      <td>0.001843</td>\n",
              "      <td>17.921</td>\n",
              "      <td>84.671614</td>\n",
              "      <td>1.55</td>\n",
              "      <td>0.046710</td>\n",
              "      <td>0.015055</td>\n",
              "      <td>-0.891540</td>\n",
              "      <td>0.632050</td>\n",
              "      <td>0.991819</td>\n",
              "      <td>-0.855178</td>\n",
              "      <td>-0.889713</td>\n",
              "      <td>Accelerate</td>\n",
              "      <td>+</td>\n",
              "      <td>-</td>\n",
              "      <td>NaN</td>\n",
              "      <td>NaN</td>\n",
              "      <td>-0.868571</td>\n",
              "      <td>NaN</td>\n",
              "    </tr>\n",
              "    <tr>\n",
              "      <th>2020-01-01</th>\n",
              "      <td>50.9</td>\n",
              "      <td>170.31</td>\n",
              "      <td>1.51</td>\n",
              "      <td>-10.650888</td>\n",
              "      <td>-1.12</td>\n",
              "      <td>-0.698</td>\n",
              "      <td>36.594912</td>\n",
              "      <td>97.39</td>\n",
              "      <td>0.041089</td>\n",
              "      <td>106.1753</td>\n",
              "      <td>57.52</td>\n",
              "      <td>6.597480</td>\n",
              "      <td>11.95018</td>\n",
              "      <td>0.831905</td>\n",
              "      <td>2.5170</td>\n",
              "      <td>1.55085</td>\n",
              "      <td>1590.20</td>\n",
              "      <td>5.078138</td>\n",
              "      <td>19.53497</td>\n",
              "      <td>0.001583</td>\n",
              "      <td>18.012</td>\n",
              "      <td>88.285587</td>\n",
              "      <td>1.55</td>\n",
              "      <td>0.043759</td>\n",
              "      <td>0.014779</td>\n",
              "      <td>-0.513312</td>\n",
              "      <td>-0.585421</td>\n",
              "      <td>0.992345</td>\n",
              "      <td>-0.381817</td>\n",
              "      <td>-0.615151</td>\n",
              "      <td>Accelerate</td>\n",
              "      <td>+</td>\n",
              "      <td>-</td>\n",
              "      <td>NaN</td>\n",
              "      <td>NaN</td>\n",
              "      <td>-0.831905</td>\n",
              "      <td>NaN</td>\n",
              "    </tr>\n",
              "    <tr>\n",
              "      <th>2020-02-01</th>\n",
              "      <td>50.1</td>\n",
              "      <td>159.45</td>\n",
              "      <td>1.13</td>\n",
              "      <td>-36.516854</td>\n",
              "      <td>-1.60</td>\n",
              "      <td>-0.832</td>\n",
              "      <td>43.448276</td>\n",
              "      <td>98.13</td>\n",
              "      <td>-0.142465</td>\n",
              "      <td>106.1033</td>\n",
              "      <td>50.54</td>\n",
              "      <td>-11.379975</td>\n",
              "      <td>-8.02548</td>\n",
              "      <td>0.831053</td>\n",
              "      <td>2.5460</td>\n",
              "      <td>-9.72524</td>\n",
              "      <td>1585.13</td>\n",
              "      <td>8.214773</td>\n",
              "      <td>22.70172</td>\n",
              "      <td>0.001606</td>\n",
              "      <td>16.387</td>\n",
              "      <td>96.730945</td>\n",
              "      <td>1.58</td>\n",
              "      <td>0.050376</td>\n",
              "      <td>0.015967</td>\n",
              "      <td>-0.611200</td>\n",
              "      <td>-0.684336</td>\n",
              "      <td>0.872747</td>\n",
              "      <td>-0.063419</td>\n",
              "      <td>-0.686009</td>\n",
              "      <td>Decelerate</td>\n",
              "      <td>-</td>\n",
              "      <td>-</td>\n",
              "      <td>NaN</td>\n",
              "      <td>NaN</td>\n",
              "      <td>-0.831053</td>\n",
              "      <td>NaN</td>\n",
              "    </tr>\n",
              "    <tr>\n",
              "      <th>2020-03-01</th>\n",
              "      <td>49.1</td>\n",
              "      <td>121.79</td>\n",
              "      <td>0.70</td>\n",
              "      <td>-63.541667</td>\n",
              "      <td>-1.71</td>\n",
              "      <td>-0.368</td>\n",
              "      <td>-19.298246</td>\n",
              "      <td>99.05</td>\n",
              "      <td>2.759622</td>\n",
              "      <td>100.8026</td>\n",
              "      <td>29.21</td>\n",
              "      <td>-51.219105</td>\n",
              "      <td>-49.76784</td>\n",
              "      <td>1.268182</td>\n",
              "      <td>2.2335</td>\n",
              "      <td>-19.51766</td>\n",
              "      <td>1571.31</td>\n",
              "      <td>3.552788</td>\n",
              "      <td>24.28068</td>\n",
              "      <td>0.001421</td>\n",
              "      <td>14.191</td>\n",
              "      <td>110.725812</td>\n",
              "      <td>0.65</td>\n",
              "      <td>0.076464</td>\n",
              "      <td>0.018339</td>\n",
              "      <td>-0.946548</td>\n",
              "      <td>-0.630707</td>\n",
              "      <td>0.957480</td>\n",
              "      <td>0.633897</td>\n",
              "      <td>-0.961843</td>\n",
              "      <td>Decelerate</td>\n",
              "      <td>-</td>\n",
              "      <td>-</td>\n",
              "      <td>NaN</td>\n",
              "      <td>NaN</td>\n",
              "      <td>-1.268182</td>\n",
              "      <td>NaN</td>\n",
              "    </tr>\n",
              "    <tr>\n",
              "      <th>2020-04-01</th>\n",
              "      <td>41.5</td>\n",
              "      <td>117.20</td>\n",
              "      <td>0.64</td>\n",
              "      <td>-57.615894</td>\n",
              "      <td>-1.87</td>\n",
              "      <td>-0.487</td>\n",
              "      <td>-30.229226</td>\n",
              "      <td>99.57</td>\n",
              "      <td>2.238423</td>\n",
              "      <td>84.5913</td>\n",
              "      <td>16.55</td>\n",
              "      <td>-71.227399</td>\n",
              "      <td>-74.08393</td>\n",
              "      <td>1.697143</td>\n",
              "      <td>2.3055</td>\n",
              "      <td>-21.44009</td>\n",
              "      <td>1685.05</td>\n",
              "      <td>5.964659</td>\n",
              "      <td>33.58363</td>\n",
              "      <td>0.001368</td>\n",
              "      <td>14.973</td>\n",
              "      <td>112.539237</td>\n",
              "      <td>0.05</td>\n",
              "      <td>0.139305</td>\n",
              "      <td>0.019672</td>\n",
              "      <td>-0.839153</td>\n",
              "      <td>-0.273311</td>\n",
              "      <td>0.936522</td>\n",
              "      <td>0.598830</td>\n",
              "      <td>-0.976551</td>\n",
              "      <td>Decelerate</td>\n",
              "      <td>-</td>\n",
              "      <td>-</td>\n",
              "      <td>NaN</td>\n",
              "      <td>NaN</td>\n",
              "      <td>-1.697143</td>\n",
              "      <td>NaN</td>\n",
              "    </tr>\n",
              "    <tr>\n",
              "      <th>2020-05-01</th>\n",
              "      <td>43.1</td>\n",
              "      <td>132.24</td>\n",
              "      <td>0.65</td>\n",
              "      <td>-42.477876</td>\n",
              "      <td>-1.49</td>\n",
              "      <td>-0.471</td>\n",
              "      <td>-43.389423</td>\n",
              "      <td>98.34</td>\n",
              "      <td>0.214002</td>\n",
              "      <td>87.8986</td>\n",
              "      <td>28.56</td>\n",
              "      <td>-43.490305</td>\n",
              "      <td>-53.04948</td>\n",
              "      <td>1.454000</td>\n",
              "      <td>2.4255</td>\n",
              "      <td>-12.92939</td>\n",
              "      <td>1728.30</td>\n",
              "      <td>9.032067</td>\n",
              "      <td>33.15201</td>\n",
              "      <td>0.001403</td>\n",
              "      <td>18.499</td>\n",
              "      <td>93.426672</td>\n",
              "      <td>0.05</td>\n",
              "      <td>0.084926</td>\n",
              "      <td>0.018342</td>\n",
              "      <td>-0.830418</td>\n",
              "      <td>0.052034</td>\n",
              "      <td>0.919342</td>\n",
              "      <td>0.091819</td>\n",
              "      <td>-0.861801</td>\n",
              "      <td>Decelerate</td>\n",
              "      <td>-</td>\n",
              "      <td>-</td>\n",
              "      <td>NaN</td>\n",
              "      <td>NaN</td>\n",
              "      <td>-1.454000</td>\n",
              "      <td>NaN</td>\n",
              "    </tr>\n",
              "    <tr>\n",
              "      <th>2020-06-01</th>\n",
              "      <td>52.6</td>\n",
              "      <td>137.97</td>\n",
              "      <td>0.66</td>\n",
              "      <td>-5.714286</td>\n",
              "      <td>-1.34</td>\n",
              "      <td>-0.439</td>\n",
              "      <td>19.293478</td>\n",
              "      <td>97.39</td>\n",
              "      <td>-1.675921</td>\n",
              "      <td>94.6167</td>\n",
              "      <td>38.31</td>\n",
              "      <td>31.153714</td>\n",
              "      <td>-29.91218</td>\n",
              "      <td>1.201818</td>\n",
              "      <td>2.7135</td>\n",
              "      <td>-2.16975</td>\n",
              "      <td>1780.67</td>\n",
              "      <td>13.323914</td>\n",
              "      <td>25.29720</td>\n",
              "      <td>0.001524</td>\n",
              "      <td>18.064</td>\n",
              "      <td>98.575620</td>\n",
              "      <td>0.08</td>\n",
              "      <td>0.070830</td>\n",
              "      <td>0.019667</td>\n",
              "      <td>-0.921156</td>\n",
              "      <td>0.876937</td>\n",
              "      <td>0.887028</td>\n",
              "      <td>-0.704897</td>\n",
              "      <td>-0.983963</td>\n",
              "      <td>Accelerate</td>\n",
              "      <td>+</td>\n",
              "      <td>-</td>\n",
              "      <td>NaN</td>\n",
              "      <td>NaN</td>\n",
              "      <td>-1.201818</td>\n",
              "      <td>NaN</td>\n",
              "    </tr>\n",
              "    <tr>\n",
              "      <th>2020-07-01</th>\n",
              "      <td>54.2</td>\n",
              "      <td>143.69</td>\n",
              "      <td>0.55</td>\n",
              "      <td>-14.062500</td>\n",
              "      <td>-1.47</td>\n",
              "      <td>-0.529</td>\n",
              "      <td>8.624230</td>\n",
              "      <td>93.35</td>\n",
              "      <td>-6.246862</td>\n",
              "      <td>98.3754</td>\n",
              "      <td>40.71</td>\n",
              "      <td>145.981873</td>\n",
              "      <td>-29.01482</td>\n",
              "      <td>1.173182</td>\n",
              "      <td>2.8680</td>\n",
              "      <td>7.25890</td>\n",
              "      <td>1974.69</td>\n",
              "      <td>17.188807</td>\n",
              "      <td>38.03782</td>\n",
              "      <td>0.001452</td>\n",
              "      <td>24.216</td>\n",
              "      <td>81.544846</td>\n",
              "      <td>0.09</td>\n",
              "      <td>0.070450</td>\n",
              "      <td>0.019960</td>\n",
              "      <td>-0.915625</td>\n",
              "      <td>0.912261</td>\n",
              "      <td>0.929171</td>\n",
              "      <td>-0.998799</td>\n",
              "      <td>-0.853686</td>\n",
              "      <td>Accelerate</td>\n",
              "      <td>+</td>\n",
              "      <td>-</td>\n",
              "      <td>NaN</td>\n",
              "      <td>NaN</td>\n",
              "      <td>-1.173182</td>\n",
              "      <td>NaN</td>\n",
              "    </tr>\n",
              "    <tr>\n",
              "      <th>2020-08-01</th>\n",
              "      <td>56.0</td>\n",
              "      <td>153.21</td>\n",
              "      <td>0.72</td>\n",
              "      <td>10.769231</td>\n",
              "      <td>-0.78</td>\n",
              "      <td>-0.410</td>\n",
              "      <td>-12.951168</td>\n",
              "      <td>92.14</td>\n",
              "      <td>-6.304657</td>\n",
              "      <td>99.3189</td>\n",
              "      <td>42.34</td>\n",
              "      <td>48.249300</td>\n",
              "      <td>-22.75132</td>\n",
              "      <td>1.024286</td>\n",
              "      <td>3.0410</td>\n",
              "      <td>13.99353</td>\n",
              "      <td>1968.03</td>\n",
              "      <td>13.870856</td>\n",
              "      <td>28.12224</td>\n",
              "      <td>0.001545</td>\n",
              "      <td>28.594</td>\n",
              "      <td>68.826677</td>\n",
              "      <td>0.10</td>\n",
              "      <td>0.071823</td>\n",
              "      <td>0.019849</td>\n",
              "      <td>-0.934417</td>\n",
              "      <td>0.908655</td>\n",
              "      <td>0.968679</td>\n",
              "      <td>-0.982089</td>\n",
              "      <td>-0.947556</td>\n",
              "      <td>Accelerate</td>\n",
              "      <td>+</td>\n",
              "      <td>-</td>\n",
              "      <td>NaN</td>\n",
              "      <td>NaN</td>\n",
              "      <td>-1.024286</td>\n",
              "      <td>NaN</td>\n",
              "    </tr>\n",
              "  </tbody>\n",
              "</table>\n",
              "</div>"
            ],
            "text/plain": [
              "            ISM_PMI  ...  MA_12_Aaa/Baa_Spread_Inv\n",
              "date                 ...                          \n",
              "2019-01-01     56.6  ...                       NaN\n",
              "2019-02-01     54.1  ...                       NaN\n",
              "2019-03-01     54.6  ...                       NaN\n",
              "2019-04-01     53.4  ...                       NaN\n",
              "2019-05-01     52.3  ...                       NaN\n",
              "2019-06-01     51.6  ...                       NaN\n",
              "2019-07-01     51.3  ...                       NaN\n",
              "2019-08-01     48.8  ...                       NaN\n",
              "2019-09-01     48.2  ...                       NaN\n",
              "2019-10-01     48.5  ...                       NaN\n",
              "2019-11-01     48.1  ...                       NaN\n",
              "2019-12-01     47.8  ...                       NaN\n",
              "2020-01-01     50.9  ...                       NaN\n",
              "2020-02-01     50.1  ...                       NaN\n",
              "2020-03-01     49.1  ...                       NaN\n",
              "2020-04-01     41.5  ...                       NaN\n",
              "2020-05-01     43.1  ...                       NaN\n",
              "2020-06-01     52.6  ...                       NaN\n",
              "2020-07-01     54.2  ...                       NaN\n",
              "2020-08-01     56.0  ...                       NaN\n",
              "\n",
              "[20 rows x 37 columns]"
            ]
          },
          "metadata": {
            "tags": []
          },
          "execution_count": 45
        }
      ]
    },
    {
      "cell_type": "code",
      "metadata": {
        "id": "X5XcFSyzJlPE"
      },
      "source": [
        "# More FEATURES rolling mean and shifting for time series correlation\n",
        "\n",
        "df['MA12_ISM'] = df['ism_pmi'].rolling(window=12).mean().shift(-20)\n",
        "df['MA12_WTI'] = df['wti'].rolling(window=12).mean().shift(-20)\n",
        "df['inverse_ba'] = df['ba_credit_spread'] * -1\n",
        "df['MA12_inverse_ba'] = df['inverse_ba'].rolling(window=12).mean().shift(-20)"
      ],
      "execution_count": null,
      "outputs": []
    },
    {
      "cell_type": "code",
      "metadata": {
        "id": "XkMu4gRp2ydv"
      },
      "source": [
        "# Cleaning column names for feature importance readability \n",
        "\n",
        "df.columns = ['ISM_PMI', 'Commodity_Index', '10yr_Rate','10yr_ROC', '10yr_yoy_Per_Chg', \n",
        "              'Swiss_10yr', 'Swiss_10yr_ROC', 'Dollar_Index', 'Dollar_ROC',\n",
        "              'Indust_Prod_Manufacturing', 'WTI', 'WTI_ROC', 'WTI_yoy_Chg', \n",
        "              'Aaa/Baa_Yield_Spread', 'Copper', 'Copper_yoy_Chg', 'Gold', \n",
        "              'Gold_ROC', 'Gold_yoy_Chg', 'Copper/Gold', 'Silver', \n",
        "              'Gold/Silver', 'Fed_Funds_Rate', 'Copper/WTI', 'Copper/CRB', \n",
        "              'Copper/$_Quarter_Corr', 'Copper/Gold_Quarter_Corr', \n",
        "              'Copper/CRB_Quarter_Corr', '$/Gold_Quarter_Corr', \n",
        "              '$/CRB_Quarter_Corr', 'CPI_Direction', 'WTI_ROC_+', 'Gold_ROC_+',\n",
        "              'MA_12_ISM', 'MA_12_WTI', 'Aaa/Baa_Spread_Inv', 'MA_12_Aaa/Baa_Spread_Inv']"
      ],
      "execution_count": null,
      "outputs": []
    },
    {
      "cell_type": "markdown",
      "metadata": {
        "id": "7Z7IJY_9F2la"
      },
      "source": [
        "#Split target vector from feature matrix\n",
        "#Split training and validation set"
      ]
    },
    {
      "cell_type": "code",
      "metadata": {
        "id": "FC1nhjajakbA"
      },
      "source": [
        "# target is the `CPI_Direction`\n",
        "# categorical\n",
        "target = 'CPI_Direction'\n",
        "\n",
        "y = df[target]\n",
        "X = df.drop(target , axis=1)"
      ],
      "execution_count": null,
      "outputs": []
    },
    {
      "cell_type": "code",
      "metadata": {
        "id": "M6tnYD9xU40G"
      },
      "source": [
        "cutoff1 = '2017-07-01'\n",
        "mask1 = (df.index <= cutoff1)\n",
        "train = df[mask1]\n",
        "val = df[~mask1]"
      ],
      "execution_count": null,
      "outputs": []
    },
    {
      "cell_type": "code",
      "metadata": {
        "id": "tDZIQlgBtLU9"
      },
      "source": [
        "y_train = train[target]\n",
        "X_train = train.drop([target], axis=1)\n",
        "\n",
        "y_val = val[target]\n",
        "X_val = val.drop(target, axis=1)"
      ],
      "execution_count": null,
      "outputs": []
    },
    {
      "cell_type": "code",
      "metadata": {
        "id": "HCOo6OGO_LVV",
        "colab": {
          "base_uri": "https://localhost:8080/",
          "height": 73
        },
        "outputId": "42034ca0-c529-4dea-af70-23b14be5700b"
      },
      "source": [
        "y_train.value_counts()"
      ],
      "execution_count": null,
      "outputs": [
        {
          "output_type": "execute_result",
          "data": {
            "text/plain": [
              "Decelerate    145\n",
              "Accelerate    134\n",
              "Name: CPI_Direction, dtype: int64"
            ]
          },
          "metadata": {
            "tags": []
          },
          "execution_count": 13
        }
      ]
    },
    {
      "cell_type": "code",
      "metadata": {
        "id": "zOpkuYqhU7f8"
      },
      "source": [
        "# Checking with assert\n",
        "assert df.shape[0] == train.shape[0] + val.shape[0]"
      ],
      "execution_count": null,
      "outputs": []
    },
    {
      "cell_type": "code",
      "metadata": {
        "id": "NSfSzZN-VB8J",
        "colab": {
          "base_uri": "https://localhost:8080/",
          "height": 36
        },
        "outputId": "ba4b6e01-faa8-4007-b4f3-a18de1ff6ca5"
      },
      "source": [
        "# Baseline --> Classification\n",
        "\n",
        "from sklearn.metrics import mean_absolute_error\n",
        "print('Baseline Accuracy:', y_train.value_counts(normalize=True).max())"
      ],
      "execution_count": null,
      "outputs": [
        {
          "output_type": "stream",
          "text": [
            "Baseline Accuracy: 0.5197132616487455\n"
          ],
          "name": "stdout"
        }
      ]
    },
    {
      "cell_type": "code",
      "metadata": {
        "id": "9vEVLlRvVGIx"
      },
      "source": [
        "# Model 1: Logistic Regression\n",
        "\n",
        "model = make_pipeline(\n",
        "    OrdinalEncoder(),   \n",
        "    SimpleImputer(),\n",
        "    StandardScaler(),\n",
        "    LogisticRegression()    \n",
        ")\n",
        "\n",
        "model.fit(X_train, y_train);"
      ],
      "execution_count": null,
      "outputs": []
    },
    {
      "cell_type": "code",
      "metadata": {
        "id": "h6UzkYjwVHSr",
        "colab": {
          "base_uri": "https://localhost:8080/",
          "height": 54
        },
        "outputId": "b200312f-3005-4bb8-834c-3dd166b3b7e1"
      },
      "source": [
        "print('Training Accuracy LOGR:', model.score(X_train, y_train))\n",
        "print('Validtaion Accuracy LOGR:', model.score(X_val, y_val))"
      ],
      "execution_count": null,
      "outputs": [
        {
          "output_type": "stream",
          "text": [
            "Training Accuracy LOGR: 0.6989247311827957\n",
            "Validtaion Accuracy LOGR: 0.5945945945945946\n"
          ],
          "name": "stdout"
        }
      ]
    },
    {
      "cell_type": "code",
      "metadata": {
        "id": "TWbb7zt4-WgK",
        "colab": {
          "base_uri": "https://localhost:8080/",
          "height": 129
        },
        "outputId": "b65719cc-21b8-4976-c795-d57bd03d7089"
      },
      "source": [
        "import numpy as np\n",
        "coefficients = np.round(model.named_steps['logisticregression'].coef_, 3)\n",
        "list(zip(X_train.columns, coefficients))"
      ],
      "execution_count": null,
      "outputs": [
        {
          "output_type": "execute_result",
          "data": {
            "text/plain": [
              "[('ISM_PMI',\n",
              "  array([ 0.53 , -0.074,  0.761, -0.417, -0.864,  0.671,  0.067,  0.237,\n",
              "          0.106,  0.242,  0.63 , -0.098, -0.736,  0.256, -0.32 ,  0.52 ,\n",
              "          1.094, -0.153, -0.495,  0.219, -0.295,  0.426,  0.381, -0.342,\n",
              "          0.305,  0.106,  0.062,  0.037, -0.065,  0.129, -0.018, -0.08 ,\n",
              "          0.044,  0.166, -0.256,  0.074]))]"
            ]
          },
          "metadata": {
            "tags": []
          },
          "execution_count": 18
        }
      ]
    },
    {
      "cell_type": "code",
      "metadata": {
        "id": "Nw6V1U98VKYQ"
      },
      "source": [
        "# Model 2: Random Forest Classifier\n",
        "model_f = make_pipeline(\n",
        "    OrdinalEncoder(),\n",
        "    SimpleImputer(strategy='mean'),\n",
        "    StandardScaler(),\n",
        "    RandomForestClassifier(n_jobs=-1, n_estimators=20, random_state=42)\n",
        ")\n",
        "\n",
        "model_f.fit(X_train, y_train);"
      ],
      "execution_count": null,
      "outputs": []
    },
    {
      "cell_type": "code",
      "metadata": {
        "id": "wyVeFpuCX_Nm",
        "colab": {
          "base_uri": "https://localhost:8080/",
          "height": 54
        },
        "outputId": "fb7df999-63cc-424a-a5f1-fa9027f25b24"
      },
      "source": [
        "print('Train Accuracy (RF):', model_f.score(X_train, y_train))\n",
        "print('Validation Accuracy (RF):', model_f.score(X_val, y_val))"
      ],
      "execution_count": null,
      "outputs": [
        {
          "output_type": "stream",
          "text": [
            "Train Accuracy (RF): 0.992831541218638\n",
            "Validation Accuracy (RF): 0.7027027027027027\n"
          ],
          "name": "stdout"
        }
      ]
    },
    {
      "cell_type": "code",
      "metadata": {
        "id": "b9dT8n9SIqQw",
        "colab": {
          "base_uri": "https://localhost:8080/",
          "height": 279
        },
        "outputId": "f47eef5f-0831-4b91-d20a-f66a7036d760"
      },
      "source": [
        "from sklearn.metrics import plot_confusion_matrix, classification_report\n",
        "plot_confusion_matrix(model_f,\n",
        "                      X_val, \n",
        "                      y_val,\n",
        "                      display_labels=['Accelerate', 'Decelerate'],\n",
        "                      values_format='.0f');"
      ],
      "execution_count": null,
      "outputs": [
        {
          "output_type": "display_data",
          "data": {
            "image/png": "[encoded data removed]",
            "text/plain": [
              "<Figure size 432x288 with 2 Axes>"
            ]
          },
          "metadata": {
            "tags": [],
            "needs_background": "light"
          }
        }
      ]
    },
    {
      "cell_type": "code",
      "metadata": {
        "id": "WTYGx5KQYvo_"
      },
      "source": [
        "from sklearn.ensemble import GradientBoostingClassifier, GradientBoostingRegressor\n",
        "from xgboost import XGBClassifier, XGBRegressor"
      ],
      "execution_count": null,
      "outputs": []
    },
    {
      "cell_type": "code",
      "metadata": {
        "id": "Z7mSrRu9ghjZ"
      },
      "source": [
        "# Model 3: Gradient Boosting Classifier\n",
        "\n",
        "model_grad = make_pipeline(\n",
        "    OrdinalEncoder(),\n",
        "    SimpleImputer(),\n",
        "    GradientBoostingClassifier(n_estimators=32)\n",
        ")\n",
        "model_grad.fit(X_train,y_train);"
      ],
      "execution_count": null,
      "outputs": []
    },
    {
      "cell_type": "code",
      "metadata": {
        "id": "9eqX9fXZ_YzU",
        "colab": {
          "base_uri": "https://localhost:8080/",
          "height": 54
        },
        "outputId": "27f621d4-0bc6-43a2-a1e9-d40946f60236"
      },
      "source": [
        "\n",
        "print('Train Accuracy:', model_grad.score(X_train, y_train))\n",
        "print('Validation Accuracy:', model_grad.score(X_val, y_val))"
      ],
      "execution_count": null,
      "outputs": [
        {
          "output_type": "stream",
          "text": [
            "Train Accuracy: 0.9354838709677419\n",
            "Validation Accuracy: 0.7297297297297297\n"
          ],
          "name": "stdout"
        }
      ]
    },
    {
      "cell_type": "markdown",
      "metadata": {
        "id": "cZn46Em4OKCh"
      },
      "source": [
        "Confusion Matrix"
      ]
    },
    {
      "cell_type": "code",
      "metadata": {
        "id": "j9Ub7YgJzJ9d",
        "colab": {
          "base_uri": "https://localhost:8080/",
          "height": 283
        },
        "outputId": "84e3a6f7-a46c-419d-ae35-059c870d5938"
      },
      "source": [
        "# Gradient Boosting classification\n",
        "from sklearn.metrics import plot_confusion_matrix, classification_report\n",
        "\n",
        "plot_confusion_matrix(model_grad,\n",
        "                      X_val, \n",
        "                      y_val,\n",
        "                      display_labels=['Accelerate', 'Decelerate'],\n",
        "                      values_format='.0f');"
      ],
      "execution_count": null,
      "outputs": [
        {
          "output_type": "display_data",
          "data": {
            "image/png": "[encoded data removed]",
            "text/plain": [
              "<Figure size 432x288 with 2 Axes>"
            ]
          },
          "metadata": {
            "tags": [],
            "needs_background": "light"
          }
        }
      ]
    },
    {
      "cell_type": "code",
      "metadata": {
        "id": "A-fp2P8yc4_P",
        "colab": {
          "base_uri": "https://localhost:8080/",
          "height": 185
        },
        "outputId": "753cdd24-b732-4cf6-8026-4e1cf0940939"
      },
      "source": [
        "print(classification_report(y_val,model_grad.predict(X_val), target_names=['Accelerate','Decelerate']))"
      ],
      "execution_count": null,
      "outputs": [
        {
          "output_type": "stream",
          "text": [
            "              precision    recall  f1-score   support\n",
            "\n",
            "  Accelerate       0.81      0.65      0.72        20\n",
            "  Decelerate       0.67      0.82      0.74        17\n",
            "\n",
            "    accuracy                           0.73        37\n",
            "   macro avg       0.74      0.74      0.73        37\n",
            "weighted avg       0.75      0.73      0.73        37\n",
            "\n"
          ],
          "name": "stdout"
        }
      ]
    },
    {
      "cell_type": "code",
      "metadata": {
        "id": "Zr_xgDA5o18V",
        "colab": {
          "base_uri": "https://localhost:8080/",
          "height": 265
        },
        "outputId": "cf4e739b-9f4c-4637-d678-58bd9e7f7251"
      },
      "source": [
        "# 1) Feature Importance for Gradient Boosting Classifier\n",
        "\n",
        "feature_imp = model_grad.named_steps['gradientboostingclassifier'] .feature_importances_\n",
        "features = X_train.columns\n",
        "\n",
        "pd.Series(feature_imp, features).sort_values(ascending=False).head(12).plot(kind='barh');"
      ],
      "execution_count": null,
      "outputs": [
        {
          "output_type": "display_data",
          "data": {
            "image/png": "[encoded data removed]",
            "text/plain": [
              "<Figure size 432x288 with 1 Axes>"
            ]
          },
          "metadata": {
            "tags": [],
            "needs_background": "light"
          }
        }
      ]
    },
    {
      "cell_type": "code",
      "metadata": {
        "id": "3UD7L2IyTQ0_",
        "colab": {
          "base_uri": "https://localhost:8080/",
          "height": 363
        },
        "outputId": "4a2a4e99-b156-4f8c-928e-ca37777b7df2"
      },
      "source": [
        "# 2) Feature Importance for Gradient Boosting Classifier\n",
        "\n",
        "gbc = model_grad.named_steps['gradientboostingclassifier']\n",
        "importances = pd.Series(gbc.feature_importances_, X_train.columns)\n",
        "\n",
        "n = 11\n",
        "plt.figure(figsize=(10,n/2))\n",
        "plt.title(f'Top {n} features')\n",
        "importances.sort_values()[-n:].plot.barh(color='#2D6F8E');"
      ],
      "execution_count": null,
      "outputs": [
        {
          "output_type": "display_data",
          "data": {
            "image/png": "[encoded data removed]",
            "text/plain": [
              "<Figure size 720x396 with 1 Axes>"
            ]
          },
          "metadata": {
            "tags": [],
            "needs_background": "light"
          }
        }
      ]
    },
    {
      "cell_type": "markdown",
      "metadata": {
        "id": "7vcQD2imnkrm"
      },
      "source": [
        "#PDP Plot"
      ]
    },
    {
      "cell_type": "code",
      "metadata": {
        "id": "A14gz5_xS5kF",
        "colab": {
          "base_uri": "https://localhost:8080/",
          "height": 655
        },
        "outputId": "8063751d-c6c7-4819-a795-71718f43f657"
      },
      "source": [
        "import matplotlib.pyplot as plt\n",
        "plt.rcParams['figure.dpi'] = 72\n",
        "from pdpbox.pdp import pdp_isolate, pdp_interact, pdp_plot, pdp_interact_plot\n",
        "\n",
        "features = ['WTI_ROC', '10yr_ROC']\n",
        "interaction = pdp_interact(\n",
        "    model=model_grad,\n",
        "    dataset=X_val,\n",
        "    model_features=X_val.columns,\n",
        "    features=features\n",
        ")\n",
        "\n",
        "pdp_interact_plot(interaction, plot_type='grid', feature_names=features);"
      ],
      "execution_count": null,
      "outputs": [
        {
          "output_type": "stream",
          "text": [
            "findfont: Font family ['Arial'] not found. Falling back to DejaVu Sans.\n",
            "findfont: Font family ['Arial'] not found. Falling back to DejaVu Sans.\n",
            "findfont: Font family ['Arial'] not found. Falling back to DejaVu Sans.\n",
            "findfont: Font family ['Arial'] not found. Falling back to DejaVu Sans.\n"
          ],
          "name": "stderr"
        },
        {
          "output_type": "display_data",
          "data": {
            "image/png": "[encoded data removed]",
            "text/plain": [
              "<Figure size 540x684 with 3 Axes>"
            ]
          },
          "metadata": {
            "tags": [],
            "needs_background": "light"
          }
        }
      ]
    },
    {
      "cell_type": "markdown",
      "metadata": {
        "id": "tvEp19HkXabO"
      },
      "source": [
        "While the rate of change in the price of WTI is highly negative the 10 year rate of change seems to have a higher effect on inflation accerlating as the 10 year rate of change increases. Futhermore, if the 10 year RoC remains elevated and the WTI RoC increaeses to the 23.5 level there is a shift to WTI RoC having a greater effect on inflation. Diving deeper into these thresholds could be an area for deeper investigation."
      ]
    },
    {
      "cell_type": "code",
      "metadata": {
        "id": "_sC6m6jUWiG8",
        "colab": {
          "base_uri": "https://localhost:8080/",
          "height": 598
        },
        "outputId": "e285432b-c15e-4eb5-d675-390aed1b6346"
      },
      "source": [
        "# PDP isolated (One Single Feature)\n",
        "\n",
        "plt.rcParams['figure.dpi'] = 72\n",
        "\n",
        "\n",
        "feature = '10yr_ROC'\n",
        "isolated = pdp_isolate(\n",
        "    model=model_grad,\n",
        "    dataset=X_val,\n",
        "    model_features=X_val.columns,\n",
        "    feature=feature\n",
        ")\n",
        "\n",
        "pdp_plot(isolated, feature_name=feature);"
      ],
      "execution_count": null,
      "outputs": [
        {
          "output_type": "stream",
          "text": [
            "findfont: Font family ['Arial'] not found. Falling back to DejaVu Sans.\n"
          ],
          "name": "stderr"
        },
        {
          "output_type": "display_data",
          "data": {
            "image/png": "[encoded data removed]",
            "text/plain": [
              "<Figure size 1080x684 with 2 Axes>"
            ]
          },
          "metadata": {
            "tags": [],
            "needs_background": "light"
          }
        }
      ]
    },
    {
      "cell_type": "code",
      "metadata": {
        "id": "ATLQhvoLqpXJ",
        "colab": {
          "base_uri": "https://localhost:8080/",
          "height": 581
        },
        "outputId": "50fc1479-b8f9-4866-cebc-baa571162038"
      },
      "source": [
        "# 2nd PDP Interact Plot\n",
        "\n",
        "features = ['ISM_PMI', 'WTI_yoy_Chg']\n",
        "\n",
        "interaction = pdp_interact(\n",
        "    model=model_grad,\n",
        "    dataset=X_val,\n",
        "    model_features=X_train.columns,\n",
        "    features=features\n",
        ")\n",
        "\n",
        "pdp_interact_plot(interaction, plot_type='grid', feature_names=features);"
      ],
      "execution_count": null,
      "outputs": [
        {
          "output_type": "display_data",
          "data": {
            "image/png": "[encoded data removed]",
            "text/plain": [
              "<Figure size 540x684 with 3 Axes>"
            ]
          },
          "metadata": {
            "tags": [],
            "needs_background": "light"
          }
        }
      ]
    },
    {
      "cell_type": "code",
      "metadata": {
        "id": "p1qc_29hb4Hm"
      },
      "source": [
        "# Model 4: XGB Regressor\n",
        "\n",
        "model_xgb = make_pipeline(\n",
        "    OrdinalEncoder(),\n",
        "    SimpleImputer(),\n",
        "    # SelectKBest(k=20),\n",
        "    XGBClassifier(n_jobs=-1, n_estimators=23)\n",
        ")\n",
        "\n",
        "model_xgb.fit(X_train, y_train);"
      ],
      "execution_count": null,
      "outputs": []
    },
    {
      "cell_type": "code",
      "metadata": {
        "id": "8MmACv1odEq1",
        "colab": {
          "base_uri": "https://localhost:8080/",
          "height": 54
        },
        "outputId": "55d900d9-5dc5-4336-8da7-c88f6430a434"
      },
      "source": [
        "print('Train Accuracy:', model_xgb.score(X_train, y_train))\n",
        "print('Validation Accuracy:', model_xgb.score(X_val, y_val)) "
      ],
      "execution_count": null,
      "outputs": [
        {
          "output_type": "stream",
          "text": [
            "Train Accuracy: 0.8960573476702509\n",
            "Validation Accuracy: 0.7027027027027027\n"
          ],
          "name": "stdout"
        }
      ]
    },
    {
      "cell_type": "markdown",
      "metadata": {
        "id": "QoenO1B0jzs-"
      },
      "source": [
        "Confusion Matrix XGB Regression"
      ]
    },
    {
      "cell_type": "code",
      "metadata": {
        "id": "xen6kKqjjuPy",
        "colab": {
          "base_uri": "https://localhost:8080/",
          "height": 298
        },
        "outputId": "ccc3f563-3e8c-4681-c924-e89b3d376358"
      },
      "source": [
        "from sklearn.metrics import plot_confusion_matrix, classification_report\n",
        "\n",
        "plot_confusion_matrix(model_xgb,\n",
        "                      X_val, \n",
        "                      y_val,\n",
        "                      display_labels=['Accelerate', 'Decelerate'],\n",
        "                      values_format='.0f')"
      ],
      "execution_count": null,
      "outputs": [
        {
          "output_type": "execute_result",
          "data": {
            "text/plain": [
              "<sklearn.metrics._plot.confusion_matrix.ConfusionMatrixDisplay at 0x7f4aa6e221d0>"
            ]
          },
          "metadata": {
            "tags": []
          },
          "execution_count": 34
        },
        {
          "output_type": "display_data",
          "data": {
            "image/png": "[encoded data removed]",
            "text/plain": [
              "<Figure size 432x288 with 2 Axes>"
            ]
          },
          "metadata": {
            "tags": [],
            "needs_background": "light"
          }
        }
      ]
    },
    {
      "cell_type": "code",
      "metadata": {
        "id": "U4-qozAdj3Kt",
        "colab": {
          "base_uri": "https://localhost:8080/",
          "height": 185
        },
        "outputId": "b31e0797-6307-4c90-a2e1-f792e2abd6df"
      },
      "source": [
        "print(classification_report(y_val,model_xgb.predict(X_val), target_names=['Accelerate','Decelerate']))"
      ],
      "execution_count": null,
      "outputs": [
        {
          "output_type": "stream",
          "text": [
            "              precision    recall  f1-score   support\n",
            "\n",
            "  Accelerate       0.85      0.55      0.67        20\n",
            "  Decelerate       0.62      0.88      0.73        17\n",
            "\n",
            "    accuracy                           0.70        37\n",
            "   macro avg       0.74      0.72      0.70        37\n",
            "weighted avg       0.74      0.70      0.70        37\n",
            "\n"
          ],
          "name": "stdout"
        }
      ]
    },
    {
      "cell_type": "markdown",
      "metadata": {
        "id": "kv3huN0dCRbW"
      },
      "source": [
        "Feature Importances of XGB Classifier Model"
      ]
    },
    {
      "cell_type": "code",
      "metadata": {
        "id": "yCNACq_aQaF6",
        "colab": {
          "base_uri": "https://localhost:8080/",
          "height": 265
        },
        "outputId": "16ab7769-584b-4aa4-a1ec-8cb9d255ec9c"
      },
      "source": [
        "feature_imp = model_xgb.named_steps['xgbclassifier'] .feature_importances_\n",
        "features = X_train.columns\n",
        "\n",
        "pd.Series(feature_imp, features).sort_values(ascending=False).head(20).plot(kind='barh');"
      ],
      "execution_count": null,
      "outputs": [
        {
          "output_type": "display_data",
          "data": {
            "image/png": "[encoded data removed]",
            "text/plain": [
              "<Figure size 432x288 with 1 Axes>"
            ]
          },
          "metadata": {
            "tags": [],
            "needs_background": "light"
          }
        }
      ]
    },
    {
      "cell_type": "code",
      "metadata": {
        "id": "ANPZAnDYDyVn",
        "colab": {
          "base_uri": "https://localhost:8080/",
          "height": 129
        },
        "outputId": "8f148708-0046-4f70-c96a-68488821f483"
      },
      "source": [
        "# Taking note of the value_counts() of train and validation set\n",
        "\n",
        "print(y_train.value_counts())\n",
        "print(y_val.value_counts())"
      ],
      "execution_count": null,
      "outputs": [
        {
          "output_type": "stream",
          "text": [
            "Decelerate    145\n",
            "Accelerate    134\n",
            "Name: CPI_Direction, dtype: int64\n",
            "Accelerate    20\n",
            "Decelerate    17\n",
            "Name: CPI_Direction, dtype: int64\n"
          ],
          "name": "stdout"
        }
      ]
    },
    {
      "cell_type": "markdown",
      "metadata": {
        "id": "j6eiLmbhGIgH"
      },
      "source": [
        "#Split target vector from feature matrix\n",
        "#Split training, validation, and **test set**"
      ]
    },
    {
      "cell_type": "code",
      "metadata": {
        "id": "bL40RCsYFeKb"
      },
      "source": [
        "# target is the `CPI_Direction`\n",
        "\n",
        "target = 'CPI_Direction'\n",
        "\n",
        "y = df[target]\n",
        "X = df.drop(target , axis=1)"
      ],
      "execution_count": null,
      "outputs": []
    },
    {
      "cell_type": "code",
      "metadata": {
        "id": "UKX1nK_IFenz"
      },
      "source": [
        "cutoff1 = '2008-07-01'\n",
        "cutoff2 = '2014-07-01'\n",
        "\n",
        "mask1 = (df.index <= cutoff1)\n",
        "mask2 = (df.index > cutoff1) & (df.index < cutoff2)\n",
        "mask3 = (df.index >= cutoff2)\n",
        "\n",
        "train = df[mask1]\n",
        "val = df[mask2]\n",
        "test = df[mask3]"
      ],
      "execution_count": null,
      "outputs": []
    },
    {
      "cell_type": "code",
      "metadata": {
        "id": "zmW4euiLK5WP"
      },
      "source": [
        "y_train = train[target]\n",
        "X_train = train.drop([target], axis=1)\n",
        "\n",
        "y_val = val[target]\n",
        "X_val = val.drop(target, axis=1)\n",
        "\n",
        "y_test = test[target]\n",
        "X_test = test.drop(target, axis=1)"
      ],
      "execution_count": null,
      "outputs": []
    },
    {
      "cell_type": "code",
      "metadata": {
        "id": "O1Pjrf1cD3bf"
      },
      "source": [
        "assert df.shape[0] == train.shape[0] + val.shape[0] + test.shape[0]"
      ],
      "execution_count": null,
      "outputs": []
    },
    {
      "cell_type": "code",
      "metadata": {
        "id": "koPMZi8jHEcX",
        "colab": {
          "base_uri": "https://localhost:8080/",
          "height": 73
        },
        "outputId": "6f082297-96b5-40a8-abd8-2236313d1807"
      },
      "source": [
        "# Model with a train, validation, and test set\n",
        "# Model 5: XGB Regressor\n",
        "\n",
        "model_xgb1 = make_pipeline(\n",
        "    OrdinalEncoder(),\n",
        "    SimpleImputer(),\n",
        "    XGBClassifier(n_jobs=-1, n_estimators=23)\n",
        ")\n",
        "\n",
        "model_xgb1.fit(X_train, y_train);\n",
        "\n",
        "print('Train Accuracy:', model_xgb1.score(X_train, y_train))\n",
        "print('Validation Accuracy:', model_xgb1.score(X_val, y_val))\n",
        "print('Test Accuracy:', model_xgb1.score(X_test, y_test))"
      ],
      "execution_count": null,
      "outputs": [
        {
          "output_type": "stream",
          "text": [
            "Train Accuracy: 0.9415204678362573\n",
            "Validation Accuracy: 0.5070422535211268\n",
            "Test Accuracy: 0.6216216216216216\n"
          ],
          "name": "stdout"
        }
      ]
    },
    {
      "cell_type": "code",
      "metadata": {
        "id": "YsQOv1AEIo68",
        "colab": {
          "base_uri": "https://localhost:8080/",
          "height": 185
        },
        "outputId": "75150d81-eaa5-4bd5-c5e0-8092bffc6b16"
      },
      "source": [
        "# Taking note of the value_counts() of train and validation set\n",
        "\n",
        "print(y_train.value_counts())\n",
        "print(y_val.value_counts())\n",
        "print(y_test.value_counts())"
      ],
      "execution_count": null,
      "outputs": [
        {
          "output_type": "stream",
          "text": [
            "Decelerate    89\n",
            "Accelerate    82\n",
            "Name: CPI_Direction, dtype: int64\n",
            "Decelerate    39\n",
            "Accelerate    32\n",
            "Name: CPI_Direction, dtype: int64\n",
            "Accelerate    40\n",
            "Decelerate    34\n",
            "Name: CPI_Direction, dtype: int64\n"
          ],
          "name": "stdout"
        }
      ]
    },
    {
      "cell_type": "code",
      "metadata": {
        "id": "2hm0gbn8M9Ci"
      },
      "source": [
        ""
      ],
      "execution_count": null,
      "outputs": []
    }
  ]
}